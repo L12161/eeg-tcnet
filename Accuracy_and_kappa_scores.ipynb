{
 "cells": [
  {
   "cell_type": "code",
   "execution_count": 1,
   "metadata": {},
   "outputs": [
    {
     "name": "stderr",
     "output_type": "stream",
     "text": [
      "/home/thoriri/miniconda3/envs/EEG-TCNet/lib/python3.6/site-packages/tensorflow/python/framework/dtypes.py:516: FutureWarning: Passing (type, 1) or '1type' as a synonym of type is deprecated; in a future version of numpy, it will be understood as (type, (1,)) / '(1,)type'.\n",
      "  _np_qint8 = np.dtype([(\"qint8\", np.int8, 1)])\n",
      "/home/thoriri/miniconda3/envs/EEG-TCNet/lib/python3.6/site-packages/tensorflow/python/framework/dtypes.py:517: FutureWarning: Passing (type, 1) or '1type' as a synonym of type is deprecated; in a future version of numpy, it will be understood as (type, (1,)) / '(1,)type'.\n",
      "  _np_quint8 = np.dtype([(\"quint8\", np.uint8, 1)])\n",
      "/home/thoriri/miniconda3/envs/EEG-TCNet/lib/python3.6/site-packages/tensorflow/python/framework/dtypes.py:518: FutureWarning: Passing (type, 1) or '1type' as a synonym of type is deprecated; in a future version of numpy, it will be understood as (type, (1,)) / '(1,)type'.\n",
      "  _np_qint16 = np.dtype([(\"qint16\", np.int16, 1)])\n",
      "/home/thoriri/miniconda3/envs/EEG-TCNet/lib/python3.6/site-packages/tensorflow/python/framework/dtypes.py:519: FutureWarning: Passing (type, 1) or '1type' as a synonym of type is deprecated; in a future version of numpy, it will be understood as (type, (1,)) / '(1,)type'.\n",
      "  _np_quint16 = np.dtype([(\"quint16\", np.uint16, 1)])\n",
      "/home/thoriri/miniconda3/envs/EEG-TCNet/lib/python3.6/site-packages/tensorflow/python/framework/dtypes.py:520: FutureWarning: Passing (type, 1) or '1type' as a synonym of type is deprecated; in a future version of numpy, it will be understood as (type, (1,)) / '(1,)type'.\n",
      "  _np_qint32 = np.dtype([(\"qint32\", np.int32, 1)])\n",
      "/home/thoriri/miniconda3/envs/EEG-TCNet/lib/python3.6/site-packages/tensorflow/python/framework/dtypes.py:525: FutureWarning: Passing (type, 1) or '1type' as a synonym of type is deprecated; in a future version of numpy, it will be understood as (type, (1,)) / '(1,)type'.\n",
      "  np_resource = np.dtype([(\"resource\", np.ubyte, 1)])\n",
      "/home/thoriri/miniconda3/envs/EEG-TCNet/lib/python3.6/site-packages/tensorboard/compat/tensorflow_stub/dtypes.py:541: FutureWarning: Passing (type, 1) or '1type' as a synonym of type is deprecated; in a future version of numpy, it will be understood as (type, (1,)) / '(1,)type'.\n",
      "  _np_qint8 = np.dtype([(\"qint8\", np.int8, 1)])\n",
      "/home/thoriri/miniconda3/envs/EEG-TCNet/lib/python3.6/site-packages/tensorboard/compat/tensorflow_stub/dtypes.py:542: FutureWarning: Passing (type, 1) or '1type' as a synonym of type is deprecated; in a future version of numpy, it will be understood as (type, (1,)) / '(1,)type'.\n",
      "  _np_quint8 = np.dtype([(\"quint8\", np.uint8, 1)])\n",
      "/home/thoriri/miniconda3/envs/EEG-TCNet/lib/python3.6/site-packages/tensorboard/compat/tensorflow_stub/dtypes.py:543: FutureWarning: Passing (type, 1) or '1type' as a synonym of type is deprecated; in a future version of numpy, it will be understood as (type, (1,)) / '(1,)type'.\n",
      "  _np_qint16 = np.dtype([(\"qint16\", np.int16, 1)])\n",
      "/home/thoriri/miniconda3/envs/EEG-TCNet/lib/python3.6/site-packages/tensorboard/compat/tensorflow_stub/dtypes.py:544: FutureWarning: Passing (type, 1) or '1type' as a synonym of type is deprecated; in a future version of numpy, it will be understood as (type, (1,)) / '(1,)type'.\n",
      "  _np_quint16 = np.dtype([(\"quint16\", np.uint16, 1)])\n",
      "/home/thoriri/miniconda3/envs/EEG-TCNet/lib/python3.6/site-packages/tensorboard/compat/tensorflow_stub/dtypes.py:545: FutureWarning: Passing (type, 1) or '1type' as a synonym of type is deprecated; in a future version of numpy, it will be understood as (type, (1,)) / '(1,)type'.\n",
      "  _np_qint32 = np.dtype([(\"qint32\", np.int32, 1)])\n",
      "/home/thoriri/miniconda3/envs/EEG-TCNet/lib/python3.6/site-packages/tensorboard/compat/tensorflow_stub/dtypes.py:550: FutureWarning: Passing (type, 1) or '1type' as a synonym of type is deprecated; in a future version of numpy, it will be understood as (type, (1,)) / '(1,)type'.\n",
      "  np_resource = np.dtype([(\"resource\", np.ubyte, 1)])\n",
      "Using TensorFlow backend.\n"
     ]
    }
   ],
   "source": [
    "#*----------------------------------------------------------------------------*\n",
    "#* Copyright (C) 2020 ETH Zurich, Switzerland                                 *\n",
    "#* SPDX-License-Identifier: Apache-2.0                                        *\n",
    "#*                                                                            *\n",
    "#* Licensed under the Apache License, Version 2.0 (the \"License\");            *\n",
    "#* you may not use this file except in compliance with the License.           *\n",
    "#* You may obtain a copy of the License at                                    *\n",
    "#*                                                                            *\n",
    "#* http://www.apache.org/licenses/LICENSE-2.0                                 *\n",
    "#*                                                                            *\n",
    "#* Unless required by applicable law or agreed to in writing, software        *\n",
    "#* distributed under the License is distributed on an \"AS IS\" BASIS,          *\n",
    "#* WITHOUT WARRANTIES OR CONDITIONS OF ANY KIND, either express or implied.   *\n",
    "#* See the License for the specific language governing permissions and        *\n",
    "#* limitations under the License.                                             *\n",
    "#*                                                                            *\n",
    "#* Author:  Thorir Mar Ingolfsson                                             *\n",
    "#*----------------------------------------------------------------------------*\n",
    "\n",
    "#!/usr/bin/env python3\n",
    "\n",
    "import numpy as np\n",
    "import scipy.io as sio\n",
    "import tensorflow as tf\n",
    "from keras.utils import to_categorical\n",
    "from keras.models import load_model\n",
    "import os\n",
    "from keras.wrappers.scikit_learn import KerasClassifier\n",
    "from keras.optimizers import Adam\n",
    "import pandas as pd\n",
    "from sklearn.base import BaseEstimator, TransformerMixin\n",
    "from sklearn.preprocessing import StandardScaler\n",
    "from sklearn.pipeline import Pipeline \n",
    "from sklearn.pipeline import make_pipeline\n",
    "from sklearn.metrics import accuracy_score\n",
    "from joblib import dump, load\n",
    "import pickle\n",
    "from sklearn.metrics import cohen_kappa_score\n",
    "from utils.data_loading import prepare_features\n",
    "def build_model(path):\n",
    "    model = load_model(path)\n",
    "    #model = load_model(path +'best.h5')\n",
    "    for l in model.layers:\n",
    "        l.trainable = False\n",
    "    lr = 0.001\n",
    "    model.compile(loss = 'categorical_crossentropy',optimizer=Adam(lr=lr),metrics=['accuracy'])\n",
    "    return model\n",
    "\n",
    "class Scaler( BaseEstimator, TransformerMixin ):\n",
    "    #Class Constructor \n",
    "    def __init__( self ):\n",
    "        self.scalers = {}\n",
    "        for j in range(22):\n",
    "            self.scalers[j] = StandardScaler()\n",
    "    \n",
    "    #Return self nothing else to do here    \n",
    "    def fit( self, X, y = None ):\n",
    "        for j in range(22):\n",
    "            self.scalers[j].fit(X[:,0 ,j, :])\n",
    "        return self \n",
    "    \n",
    "    #Method that describes what we need this transformer to do\n",
    "    def transform( self, X, y = None ):\n",
    "        for j in range(22):\n",
    "            X[:,0,j,:] = self.scalers[j].transform(X[:,0 ,j, :])\n",
    "        return X"
   ]
  },
  {
   "cell_type": "markdown",
   "metadata": {},
   "source": [
    "# Making pipelines for EEG-TCNet"
   ]
  },
  {
   "cell_type": "code",
   "execution_count": 2,
   "metadata": {},
   "outputs": [
    {
     "name": "stdout",
     "output_type": "stream",
     "text": [
      "Pipeline already exists for Subject 1\n",
      "Pipeline already exists for Subject 2\n",
      "Pipeline already exists for Subject 3\n",
      "Pipeline already exists for Subject 4\n",
      "Pipeline already exists for Subject 5\n",
      "Pipeline already exists for Subject 6\n",
      "Pipeline already exists for Subject 7\n",
      "Pipeline already exists for Subject 8\n",
      "Pipeline already exists for Subject 9\n",
      "Done!\n"
     ]
    }
   ],
   "source": [
    "stand = [True,True,True,True,True,True,True,True,True]\n",
    "for i in range(9):\n",
    "    if not(os.path.exists('models/EEG-TCNet/S{:}/pipeline_fixed.h5'.format(i+1))):\n",
    "        print('Making Pipeline for Subject {:}'.format(i+1))\n",
    "        path_for_model = 'models/EEG-TCNet/S{:}/model_fixed.h5'.format(i+1)\n",
    "        clf = KerasClassifier(build_fn = build_model, path = path_for_model)\n",
    "        if(stand[i]):\n",
    "            pipe = make_pipeline(Scaler(),clf)\n",
    "        else:\n",
    "            pipe = make_pipeline(clf)\n",
    "        data_path = 'data/' \n",
    "        path = data_path+'s{:}/'.format(i+1)\n",
    "        X_train,_,y_train_onehot,X_test,_,y_test_onehot = prepare_features(path,i,False)\n",
    "        pipe.fit(X_train,y_train_onehot)\n",
    "        X_train,_,y_train_onehot,X_test,_,y_test_onehot = prepare_features(path,i,False)\n",
    "        y_pred = pipe.predict(X_test)\n",
    "        dump(pipe, 'models/EEG-TCNet/S{:}/pipeline_fixed.h5'.format(i+1))\n",
    "    else:\n",
    "        print('Pipeline already exists for Subject {:}'.format(i+1))\n",
    "print('Done!')"
   ]
  },
  {
   "cell_type": "markdown",
   "metadata": {},
   "source": [
    "# Making pipelines for Variable EEG-TCNet"
   ]
  },
  {
   "cell_type": "code",
   "execution_count": 3,
   "metadata": {},
   "outputs": [
    {
     "name": "stdout",
     "output_type": "stream",
     "text": [
      "Pipeline already exists for Subject 1\n",
      "Pipeline already exists for Subject 2\n",
      "Pipeline already exists for Subject 3\n",
      "Pipeline already exists for Subject 4\n",
      "Pipeline already exists for Subject 5\n",
      "Pipeline already exists for Subject 6\n",
      "Pipeline already exists for Subject 7\n",
      "Pipeline already exists for Subject 8\n",
      "Pipeline already exists for Subject 9\n",
      "Done!\n"
     ]
    }
   ],
   "source": [
    "stand = [True,False,True,True,True,True,True,True,True]\n",
    "for i in range(9):\n",
    "    if not(os.path.exists('models/EEG-TCNet/S{:}/pipeline.h5'.format(i+1))):\n",
    "        print('Making Pipeline for Subject {:}'.format(i+1))\n",
    "        path_for_model = 'models/EEG-TCNet/S{:}/model.h5'.format(i+1)\n",
    "        clf = KerasClassifier(build_fn = build_model,path=path_for_model)\n",
    "        if(stand[i]):\n",
    "            pipe = make_pipeline(Scaler(),clf)\n",
    "        else:\n",
    "            pipe = make_pipeline(clf)\n",
    "        data_path = 'data/' \n",
    "        path = data_path+'s{:}/'.format(i+1)\n",
    "        X_train,_,y_train_onehot,X_test,_,y_test_onehot = prepare_features(path,i,False)\n",
    "        pipe.fit(X_train,y_train_onehot)\n",
    "        X_train,_,y_train_onehot,X_test,_,y_test_onehot = prepare_features(path,i,False)\n",
    "        y_pred = pipe.predict(X_test)\n",
    "        dump(pipe, 'models/EEG-TCNet/S{:}/pipeline.h5'.format(i+1))\n",
    "    else:\n",
    "        print('Pipeline already exists for Subject {:}'.format(i+1))\n",
    "print('Done!')"
   ]
  },
  {
   "cell_type": "markdown",
   "metadata": {},
   "source": [
    "# Accuracy and Kappa score calculation for EEG-TCNet"
   ]
  },
  {
   "cell_type": "code",
   "execution_count": 4,
   "metadata": {},
   "outputs": [
    {
     "name": "stdout",
     "output_type": "stream",
     "text": [
      "WARNING:tensorflow:From /home/thoriri/miniconda3/envs/EEG-TCNet/lib/python3.6/site-packages/keras/backend/tensorflow_backend.py:517: The name tf.placeholder is deprecated. Please use tf.compat.v1.placeholder instead.\n",
      "\n",
      "WARNING:tensorflow:From /home/thoriri/miniconda3/envs/EEG-TCNet/lib/python3.6/site-packages/keras/backend/tensorflow_backend.py:4138: The name tf.random_uniform is deprecated. Please use tf.random.uniform instead.\n",
      "\n",
      "WARNING:tensorflow:From /home/thoriri/miniconda3/envs/EEG-TCNet/lib/python3.6/site-packages/keras/backend/tensorflow_backend.py:245: The name tf.get_default_graph is deprecated. Please use tf.compat.v1.get_default_graph instead.\n",
      "\n",
      "WARNING:tensorflow:From /home/thoriri/miniconda3/envs/EEG-TCNet/lib/python3.6/site-packages/keras/backend/tensorflow_backend.py:174: The name tf.get_default_session is deprecated. Please use tf.compat.v1.get_default_session instead.\n",
      "\n",
      "WARNING:tensorflow:From /home/thoriri/miniconda3/envs/EEG-TCNet/lib/python3.6/site-packages/keras/backend/tensorflow_backend.py:181: The name tf.ConfigProto is deprecated. Please use tf.compat.v1.ConfigProto instead.\n",
      "\n",
      "WARNING:tensorflow:From /home/thoriri/miniconda3/envs/EEG-TCNet/lib/python3.6/site-packages/keras/backend/tensorflow_backend.py:1834: The name tf.nn.fused_batch_norm is deprecated. Please use tf.compat.v1.nn.fused_batch_norm instead.\n",
      "\n",
      "WARNING:tensorflow:From /home/thoriri/miniconda3/envs/EEG-TCNet/lib/python3.6/site-packages/keras/backend/tensorflow_backend.py:3980: The name tf.nn.avg_pool is deprecated. Please use tf.nn.avg_pool2d instead.\n",
      "\n",
      "WARNING:tensorflow:From /home/thoriri/miniconda3/envs/EEG-TCNet/lib/python3.6/site-packages/keras/backend/tensorflow_backend.py:3445: calling dropout (from tensorflow.python.ops.nn_ops) with keep_prob is deprecated and will be removed in a future version.\n",
      "Instructions for updating:\n",
      "Please use `rate` instead of `keep_prob`. Rate should be set to `rate = 1 - keep_prob`.\n",
      "WARNING:tensorflow:From /home/thoriri/miniconda3/envs/EEG-TCNet/lib/python3.6/site-packages/keras/optimizers.py:790: The name tf.train.Optimizer is deprecated. Please use tf.compat.v1.train.Optimizer instead.\n",
      "\n",
      "For Subject: 1, Accuracy: 85.76512455516014, Kappa: 0.8101928467695633.\n",
      "For Subject: 2, Accuracy: 65.01766784452296, Kappa: 0.5339432753888381.\n",
      "For Subject: 3, Accuracy: 94.5054945054945, Kappa: 0.926729767932867.\n",
      "For Subject: 4, Accuracy: 64.91228070175438, Kappa: 0.5318755774561132.\n",
      "For Subject: 5, Accuracy: 75.36231884057972, Kappa: 0.671779087459121.\n",
      "For Subject: 6, Accuracy: 61.395348837209305, Kappa: 0.4850076476869354.\n",
      "For Subject: 7, Accuracy: 87.36462093862815, Kappa: 0.8317628889235948.\n",
      "For Subject: 8, Accuracy: 83.76383763837639, Kappa: 0.7835188177411448.\n",
      "For Subject: 9, Accuracy: 78.03030303030303, Kappa: 0.7066441872940455.\n"
     ]
    }
   ],
   "source": [
    "for i in range(9):\n",
    "    clf = load('models/EEG-TCNet/S{:}/pipeline_fixed.h5'.format(i+1)) \n",
    "    data_path = 'data/'\n",
    "    path = data_path+'s{:}/'.format(i+1)\n",
    "    X_train,_,y_train_onehot,X_test,_,y_test_onehot = prepare_features(path,i,False)\n",
    "    y_pred = clf.predict(X_test)\n",
    "    acc_score = accuracy_score(y_pred,np.argmax(y_test_onehot,axis=1))\n",
    "    kappa_score = cohen_kappa_score(y_pred,np.argmax(y_test_onehot,axis=1))\n",
    "    print('For Subject: {:}, Accuracy: {:}, Kappa: {:}.'.format(i+1,acc_score*100, kappa_score))"
   ]
  },
  {
   "cell_type": "markdown",
   "metadata": {},
   "source": [
    "# Accuracy and Kappa score calculation for Variable EEG-TCNet"
   ]
  },
  {
   "cell_type": "code",
   "execution_count": 5,
   "metadata": {},
   "outputs": [
    {
     "name": "stdout",
     "output_type": "stream",
     "text": [
      "For Subject: 1, Accuracy: 89.32384341637011, Kappa: 0.8576302100925488.\n",
      "For Subject: 2, Accuracy: 72.43816254416961, Kappa: 0.6325715331990611.\n",
      "For Subject: 3, Accuracy: 97.43589743589743, Kappa: 0.9658072250353379.\n",
      "For Subject: 4, Accuracy: 75.87719298245614, Kappa: 0.6782800554158757.\n",
      "For Subject: 5, Accuracy: 83.69565217391305, Kappa: 0.7826885727783319.\n",
      "For Subject: 6, Accuracy: 70.69767441860465, Kappa: 0.6094853683148335.\n",
      "For Subject: 7, Accuracy: 93.14079422382672, Kappa: 0.9085903848825899.\n",
      "For Subject: 8, Accuracy: 86.71586715867159, Kappa: 0.822837219437786.\n",
      "For Subject: 9, Accuracy: 85.22727272727273, Kappa: 0.8029247377689304.\n"
     ]
    }
   ],
   "source": [
    "for i in range(9):\n",
    "    clf = load('models/EEG-TCNet/S{:}/pipeline.h5'.format(i+1)) \n",
    "    data_path = 'data/'\n",
    "    path = data_path+'s{:}/'.format(i+1)\n",
    "    X_train,_,y_train_onehot,X_test,_,y_test_onehot = prepare_features(path,i,False)\n",
    "    y_pred = clf.predict(X_test)\n",
    "    acc_score = accuracy_score(y_pred,np.argmax(y_test_onehot,axis=1))\n",
    "    kappa_score = cohen_kappa_score(y_pred,np.argmax(y_test_onehot,axis=1))\n",
    "    print('For Subject: {:}, Accuracy: {:}, Kappa: {:}.'.format(i+1,acc_score*100, kappa_score))"
   ]
  },
  {
   "cell_type": "code",
   "execution_count": null,
   "metadata": {},
   "outputs": [],
   "source": []
  }
 ],
 "metadata": {
  "kernelspec": {
   "display_name": "Python 3",
   "language": "python",
   "name": "python3"
  },
  "language_info": {
   "codemirror_mode": {
    "name": "ipython",
    "version": 3
   },
   "file_extension": ".py",
   "mimetype": "text/x-python",
   "name": "python",
   "nbconvert_exporter": "python",
   "pygments_lexer": "ipython3",
   "version": "3.6.8"
  }
 },
 "nbformat": 4,
 "nbformat_minor": 1
}